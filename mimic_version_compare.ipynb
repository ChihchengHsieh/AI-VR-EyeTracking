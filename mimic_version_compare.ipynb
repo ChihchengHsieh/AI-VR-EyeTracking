{
 "cells": [
  {
   "cell_type": "code",
   "execution_count": 1,
   "metadata": {},
   "outputs": [],
   "source": [
    "import pandas as pd\n",
    "import time\n",
    "import numpy as np\n",
    "import os\n",
    "import random\n",
    "from datetime import datetime\n",
    "import math"
   ]
  },
  {
   "cell_type": "code",
   "execution_count": 2,
   "metadata": {},
   "outputs": [],
   "source": [
    "# Define the path for all of the folders.\n",
    "ED_FOLDER_PATH = \"E:/AI-VR dataset/MIMIC-IV ED\"\n",
    "CLINICAL_FOLDER_PATH = \"E:/AI-VR dataset/MIMIC-IV Clinical Database\"\n",
    "CXR_FOLDER_PATH = \"E:/AI-VR dataset/MIMIC-CXR-JPG/physionet.org/files/mimic-cxr-jpg/2.0.0\"\n",
    "EYEGAZE_FOLDER_PATH = \"E:/AI-VR dataset/eye-gaze-data-for-chest-x-rays-1.0.0\"\n",
    "REFLACX_FOLDER_PATH = \"E:/AI-VR dataset/reflacx-reports-and-eye-tracking-data-for-localization-of-abnormalities-in-chest-x-rays-1.0.0/reflacx-reports-and-eye-tracking-data-for-localization-of-abnormalities-in-chest-x-rays-1.0.0\"\n",
    "XAMI_MIMIC_PATH = \"E:/AI-VR dataset/XAMI-MIMIC\""
   ]
  },
  {
   "cell_type": "code",
   "execution_count": 3,
   "metadata": {},
   "outputs": [],
   "source": [
    "transfers_df_1 = pd.read_csv(f\"{CLINICAL_FOLDER_PATH}/core/transfers.csv\")\n",
    "transfers_df_0dot4 = pd.read_csv(f\"transfers-0.4.csv.gz\", compression='gzip', header=0, sep=',', quotechar='\"')"
   ]
  },
  {
   "cell_type": "code",
   "execution_count": 4,
   "metadata": {},
   "outputs": [
    {
     "name": "stdout",
     "output_type": "stream",
     "text": [
      "Size of 1.0 version is 2189535, and size of 0.4 version is 2192963.\n"
     ]
    }
   ],
   "source": [
    "# Compare the size of them\n",
    "print(f\"Size of 1.0 version is {len(transfers_df_1)}, and size of 0.4 version is {len(transfers_df_0dot4)}.\")\n",
    "\n",
    "# ! Size is different"
   ]
  },
  {
   "cell_type": "code",
   "execution_count": 5,
   "metadata": {},
   "outputs": [],
   "source": [
    "# We compare the stayId set\n",
    "all_stay_id_in_1 = set(transfers_df_1['transfer_id'])\n",
    "all_stay_id_in_0dot4 = set(transfers_df_0dot4['transfer_id'])"
   ]
  },
  {
   "cell_type": "code",
   "execution_count": 6,
   "metadata": {},
   "outputs": [
    {
     "name": "stdout",
     "output_type": "stream",
     "text": [
      "Size of 1.0 version has 2189535 unique stay_ids, and size of 0.4 version has 2192963 unique stay_ids.\n"
     ]
    }
   ],
   "source": [
    "print(f\"Size of 1.0 version has {len(all_stay_id_in_1)} unique stay_ids, and size of 0.4 version has {len(all_stay_id_in_0dot4)} unique stay_ids.\")"
   ]
  },
  {
   "cell_type": "code",
   "execution_count": 7,
   "metadata": {},
   "outputs": [
    {
     "name": "stdout",
     "output_type": "stream",
     "text": [
      "They only share 1106961 stay_ids, which is 50.56% of verison 1.0 and 50.48% of version 0.4\n"
     ]
    }
   ],
   "source": [
    "same_count = sum([ id in all_stay_id_in_1  for id in all_stay_id_in_0dot4])\n",
    "print(f\"They only share {same_count} stay_ids, which is {(same_count/len(all_stay_id_in_1))*(1e+2):.2f}% of verison 1.0 and {(same_count/len(all_stay_id_in_0dot4))*(1e+2):.2f}% of version 0.4\")"
   ]
  },
  {
   "cell_type": "code",
   "execution_count": 8,
   "metadata": {},
   "outputs": [],
   "source": [
    "# We try the EyeGaze Dataset strategy on the 0.4 versions\n",
    "eye_gaze_master_df = pd.read_csv(f\"{EYEGAZE_FOLDER_PATH}/master_sheet.csv\")"
   ]
  },
  {
   "cell_type": "code",
   "execution_count": 9,
   "metadata": {},
   "outputs": [],
   "source": [
    "# to see if all the stay_id used in the eye gaze datset exist in the transfer table of 0.4 version.\n",
    "eye_gaze_stay_id_not_in_transfer_0dot4 = [ id for id in set(eye_gaze_master_df['stay_id']) if not id in all_stay_id_in_0dot4]"
   ]
  },
  {
   "cell_type": "code",
   "execution_count": 10,
   "metadata": {},
   "outputs": [
    {
     "name": "stdout",
     "output_type": "stream",
     "text": [
      "0 stay_ids don't exist in 0.4 transfer table.\n"
     ]
    }
   ],
   "source": [
    "print(f\"{len(eye_gaze_stay_id_not_in_transfer_0dot4)} stay_ids don't exist in 0.4 transfer table.\")"
   ]
  },
  {
   "cell_type": "code",
   "execution_count": 11,
   "metadata": {},
   "outputs": [],
   "source": [
    "# ! The EyeGaze dataset is Compatible with 0.4 version of MIMIC-IV."
   ]
  }
 ],
 "metadata": {
  "interpreter": {
   "hash": "d9d14ce5063c5d8aaa62f42a22b56c5ab7a43293d440cad85867ad61e60e7912"
  },
  "kernelspec": {
   "display_name": "Python 3.9.7 64-bit ('tf': conda)",
   "language": "python",
   "name": "python3"
  },
  "language_info": {
   "codemirror_mode": {
    "name": "ipython",
    "version": 3
   },
   "file_extension": ".py",
   "mimetype": "text/x-python",
   "name": "python",
   "nbconvert_exporter": "python",
   "pygments_lexer": "ipython3",
   "version": "3.9.7"
  },
  "orig_nbformat": 4
 },
 "nbformat": 4,
 "nbformat_minor": 2
}
