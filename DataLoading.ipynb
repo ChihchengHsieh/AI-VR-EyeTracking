{
 "cells": [
  {
   "cell_type": "code",
   "execution_count": 1,
   "metadata": {},
   "outputs": [],
   "source": [
    "##############################################\n",
    "#   Data Loading\n",
    "##############################################\n",
    "\n",
    "## Select the data you want to load.\n",
    "\n",
    "## Import the data depends on the content you want.\n",
    "\n",
    "## Currently, we can load the data from ED and Core for clinical information.\n",
    "\n",
    "## We can also load the data from the dataset to \n",
    "\n",
    "## So we provide enum to let hte user know what kind of data he can decide to load \n",
    "\n",
    "## We seperate them to (1) Image data (2) text data (3) Tabular<including the bounding box and eye-tracking data here> (4) segmentation."
   ]
  },
  {
   "cell_type": "code",
   "execution_count": null,
   "metadata": {},
   "outputs": [],
   "source": []
  }
 ],
 "metadata": {
  "interpreter": {
   "hash": "d9d14ce5063c5d8aaa62f42a22b56c5ab7a43293d440cad85867ad61e60e7912"
  },
  "kernelspec": {
   "display_name": "Python 3.9.7 64-bit ('tf': conda)",
   "language": "python",
   "name": "python3"
  },
  "language_info": {
   "codemirror_mode": {
    "name": "ipython",
    "version": 3
   },
   "file_extension": ".py",
   "mimetype": "text/x-python",
   "name": "python",
   "nbconvert_exporter": "python",
   "pygments_lexer": "ipython3",
   "version": "3.9.7"
  },
  "orig_nbformat": 4
 },
 "nbformat": 4,
 "nbformat_minor": 2
}
