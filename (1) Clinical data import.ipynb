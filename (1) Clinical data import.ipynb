{
 "cells": [
  {
   "cell_type": "markdown",
   "metadata": {},
   "source": [
    "# Clinical data import\n",
    "\n",
    "This file contain followed sections:\n",
    "\n",
    "1. Create a folder for every patients inside the MIMIC-CXR dataset.\n",
    "2. Identify stay_id for CXR-image.\n",
    "3. Create stay_id folder and import CXR-meta.\n",
    "4. Import otehr clinical data.\n",
    "5. Save CXR spread sheet."
   ]
  },
  {
   "cell_type": "code",
   "execution_count": 1,
   "metadata": {},
   "outputs": [],
   "source": [
    "import pandas as pd\n",
    "import time\n",
    "import numpy as np\n",
    "import os\n",
    "import random\n",
    "from datetime import datetime\n",
    "import math\n",
    "from tqdm.notebook  import tqdm\n",
    "import numpy as np\n",
    "\n",
    "pd.options.mode.chained_assignment  = None"
   ]
  },
  {
   "cell_type": "code",
   "execution_count": 5,
   "metadata": {},
   "outputs": [],
   "source": [
    "disk_location  = \"/Volumes/New Volume/AI-VR dataset\"\n",
    "# disk_location = \"E:/AI-VR dataset\"\n",
    "\n",
    "# Define the path for all of the folders.\n",
    "ED_FOLDER_PATH = f\"{disk_location}/MIMIC-IV ED\"\n",
    "CLINICAL_FOLDER_PATH = f\"{disk_location}/MIMIC-IV Clinical Database\"\n",
    "CXR_FOLDER_PATH = f\"{disk_location}/MIMIC-CXR-JPG/physionet.org/files/mimic-cxr-jpg/2.0.0\"\n",
    "EYEGAZE_FOLDER_PATH = f\"{disk_location}/eye-gaze-data-for-chest-x-rays-1.0.0\"\n",
    "REFLACX_FOLDER_PATH = f\"{disk_location}/reflacx-reports-and-eye-tracking-data-for-localization-of-abnormalities-in-chest-x-rays-1.0.0/reflacx-reports-and-eye-tracking-data-for-localization-of-abnormalities-in-chest-x-rays-1.0.0\"\n",
    "# XAMI_MIMIC_PATH = \"{disk_location}/XAMI-MIMIC\"\n",
    "XAMI_MIMIC_PATH = \"./XAMI-MIMIC\""
   ]
  },
  {
   "cell_type": "code",
   "execution_count": 6,
   "metadata": {},
   "outputs": [],
   "source": [
    "os.makedirs(f\"{XAMI_MIMIC_PATH}\", exist_ok=True)"
   ]
  },
  {
   "cell_type": "markdown",
   "metadata": {},
   "source": [
    "## Create folder for patients"
   ]
  },
  {
   "cell_type": "code",
   "execution_count": 7,
   "metadata": {},
   "outputs": [],
   "source": [
    "CXR_meta_df = pd.read_csv(f\"{CXR_FOLDER_PATH}/mimic-cxr-2.0.0-metadata.csv.gz\", compression='gzip', header=0, sep=',', quotechar='\"')"
   ]
  },
  {
   "cell_type": "code",
   "execution_count": 8,
   "metadata": {},
   "outputs": [
    {
     "data": {
      "text/html": [
       "<div>\n",
       "<style scoped>\n",
       "    .dataframe tbody tr th:only-of-type {\n",
       "        vertical-align: middle;\n",
       "    }\n",
       "\n",
       "    .dataframe tbody tr th {\n",
       "        vertical-align: top;\n",
       "    }\n",
       "\n",
       "    .dataframe thead th {\n",
       "        text-align: right;\n",
       "    }\n",
       "</style>\n",
       "<table border=\"1\" class=\"dataframe\">\n",
       "  <thead>\n",
       "    <tr style=\"text-align: right;\">\n",
       "      <th></th>\n",
       "      <th>dicom_id</th>\n",
       "      <th>subject_id</th>\n",
       "      <th>study_id</th>\n",
       "      <th>PerformedProcedureStepDescription</th>\n",
       "      <th>ViewPosition</th>\n",
       "      <th>Rows</th>\n",
       "      <th>Columns</th>\n",
       "      <th>StudyDate</th>\n",
       "      <th>StudyTime</th>\n",
       "      <th>ProcedureCodeSequence_CodeMeaning</th>\n",
       "      <th>ViewCodeSequence_CodeMeaning</th>\n",
       "      <th>PatientOrientationCodeSequence_CodeMeaning</th>\n",
       "    </tr>\n",
       "  </thead>\n",
       "  <tbody>\n",
       "    <tr>\n",
       "      <th>0</th>\n",
       "      <td>02aa804e-bde0afdd-112c0b34-7bc16630-4e384014</td>\n",
       "      <td>10000032</td>\n",
       "      <td>50414267</td>\n",
       "      <td>CHEST (PA AND LAT)</td>\n",
       "      <td>PA</td>\n",
       "      <td>3056</td>\n",
       "      <td>2544</td>\n",
       "      <td>21800506</td>\n",
       "      <td>213014.531</td>\n",
       "      <td>CHEST (PA AND LAT)</td>\n",
       "      <td>postero-anterior</td>\n",
       "      <td>Erect</td>\n",
       "    </tr>\n",
       "    <tr>\n",
       "      <th>1</th>\n",
       "      <td>174413ec-4ec4c1f7-34ea26b7-c5f994f8-79ef1962</td>\n",
       "      <td>10000032</td>\n",
       "      <td>50414267</td>\n",
       "      <td>CHEST (PA AND LAT)</td>\n",
       "      <td>LATERAL</td>\n",
       "      <td>3056</td>\n",
       "      <td>2544</td>\n",
       "      <td>21800506</td>\n",
       "      <td>213014.531</td>\n",
       "      <td>CHEST (PA AND LAT)</td>\n",
       "      <td>lateral</td>\n",
       "      <td>Erect</td>\n",
       "    </tr>\n",
       "    <tr>\n",
       "      <th>2</th>\n",
       "      <td>2a2277a9-b0ded155-c0de8eb9-c124d10e-82c5caab</td>\n",
       "      <td>10000032</td>\n",
       "      <td>53189527</td>\n",
       "      <td>CHEST (PA AND LAT)</td>\n",
       "      <td>PA</td>\n",
       "      <td>3056</td>\n",
       "      <td>2544</td>\n",
       "      <td>21800626</td>\n",
       "      <td>165500.312</td>\n",
       "      <td>CHEST (PA AND LAT)</td>\n",
       "      <td>postero-anterior</td>\n",
       "      <td>Erect</td>\n",
       "    </tr>\n",
       "    <tr>\n",
       "      <th>3</th>\n",
       "      <td>e084de3b-be89b11e-20fe3f9f-9c8d8dfe-4cfd202c</td>\n",
       "      <td>10000032</td>\n",
       "      <td>53189527</td>\n",
       "      <td>CHEST (PA AND LAT)</td>\n",
       "      <td>LATERAL</td>\n",
       "      <td>3056</td>\n",
       "      <td>2544</td>\n",
       "      <td>21800626</td>\n",
       "      <td>165500.312</td>\n",
       "      <td>CHEST (PA AND LAT)</td>\n",
       "      <td>lateral</td>\n",
       "      <td>Erect</td>\n",
       "    </tr>\n",
       "    <tr>\n",
       "      <th>4</th>\n",
       "      <td>68b5c4b1-227d0485-9cc38c3f-7b84ab51-4b472714</td>\n",
       "      <td>10000032</td>\n",
       "      <td>53911762</td>\n",
       "      <td>CHEST (PORTABLE AP)</td>\n",
       "      <td>AP</td>\n",
       "      <td>2705</td>\n",
       "      <td>2539</td>\n",
       "      <td>21800723</td>\n",
       "      <td>80556.875</td>\n",
       "      <td>CHEST (PORTABLE AP)</td>\n",
       "      <td>antero-posterior</td>\n",
       "      <td>NaN</td>\n",
       "    </tr>\n",
       "  </tbody>\n",
       "</table>\n",
       "</div>"
      ],
      "text/plain": [
       "                                       dicom_id  subject_id  study_id  \\\n",
       "0  02aa804e-bde0afdd-112c0b34-7bc16630-4e384014    10000032  50414267   \n",
       "1  174413ec-4ec4c1f7-34ea26b7-c5f994f8-79ef1962    10000032  50414267   \n",
       "2  2a2277a9-b0ded155-c0de8eb9-c124d10e-82c5caab    10000032  53189527   \n",
       "3  e084de3b-be89b11e-20fe3f9f-9c8d8dfe-4cfd202c    10000032  53189527   \n",
       "4  68b5c4b1-227d0485-9cc38c3f-7b84ab51-4b472714    10000032  53911762   \n",
       "\n",
       "  PerformedProcedureStepDescription ViewPosition  Rows  Columns  StudyDate  \\\n",
       "0                CHEST (PA AND LAT)           PA  3056     2544   21800506   \n",
       "1                CHEST (PA AND LAT)      LATERAL  3056     2544   21800506   \n",
       "2                CHEST (PA AND LAT)           PA  3056     2544   21800626   \n",
       "3                CHEST (PA AND LAT)      LATERAL  3056     2544   21800626   \n",
       "4               CHEST (PORTABLE AP)           AP  2705     2539   21800723   \n",
       "\n",
       "    StudyTime ProcedureCodeSequence_CodeMeaning ViewCodeSequence_CodeMeaning  \\\n",
       "0  213014.531                CHEST (PA AND LAT)             postero-anterior   \n",
       "1  213014.531                CHEST (PA AND LAT)                      lateral   \n",
       "2  165500.312                CHEST (PA AND LAT)             postero-anterior   \n",
       "3  165500.312                CHEST (PA AND LAT)                      lateral   \n",
       "4   80556.875               CHEST (PORTABLE AP)             antero-posterior   \n",
       "\n",
       "  PatientOrientationCodeSequence_CodeMeaning  \n",
       "0                                      Erect  \n",
       "1                                      Erect  \n",
       "2                                      Erect  \n",
       "3                                      Erect  \n",
       "4                                        NaN  "
      ]
     },
     "execution_count": 8,
     "metadata": {},
     "output_type": "execute_result"
    }
   ],
   "source": [
    "CXR_meta_df.head(5)"
   ]
  },
  {
   "cell_type": "code",
   "execution_count": 9,
   "metadata": {},
   "outputs": [],
   "source": [
    "all_patients_in_cxr = list(set(CXR_meta_df['subject_id']))\n",
    "all_patients_in_cxr.sort()"
   ]
  },
  {
   "cell_type": "code",
   "execution_count": 10,
   "metadata": {},
   "outputs": [
    {
     "name": "stdout",
     "output_type": "stream",
     "text": [
      "We have total 65379 patients.\n"
     ]
    }
   ],
   "source": [
    "print(f\"We have total {len(all_patients_in_cxr)} patients.\")"
   ]
  },
  {
   "cell_type": "code",
   "execution_count": 11,
   "metadata": {},
   "outputs": [],
   "source": [
    "# # foreach patient, we create a folder for it\n",
    "# for patient_id in tqdm(all_patients_in_cxr):\n",
    "#     os.makedirs(f\"{XAMI_MIMIC_PATH}/patient_{patient_id}\", exist_ok=True)"
   ]
  },
  {
   "cell_type": "code",
   "execution_count": 12,
   "metadata": {},
   "outputs": [
    {
     "data": {
      "text/html": [
       "<div>\n",
       "<style scoped>\n",
       "    .dataframe tbody tr th:only-of-type {\n",
       "        vertical-align: middle;\n",
       "    }\n",
       "\n",
       "    .dataframe tbody tr th {\n",
       "        vertical-align: top;\n",
       "    }\n",
       "\n",
       "    .dataframe thead th {\n",
       "        text-align: right;\n",
       "    }\n",
       "</style>\n",
       "<table border=\"1\" class=\"dataframe\">\n",
       "  <thead>\n",
       "    <tr style=\"text-align: right;\">\n",
       "      <th></th>\n",
       "      <th>dicom_id</th>\n",
       "      <th>subject_id</th>\n",
       "      <th>study_id</th>\n",
       "      <th>PerformedProcedureStepDescription</th>\n",
       "      <th>ViewPosition</th>\n",
       "      <th>Rows</th>\n",
       "      <th>Columns</th>\n",
       "      <th>StudyDate</th>\n",
       "      <th>StudyTime</th>\n",
       "      <th>ProcedureCodeSequence_CodeMeaning</th>\n",
       "      <th>ViewCodeSequence_CodeMeaning</th>\n",
       "      <th>PatientOrientationCodeSequence_CodeMeaning</th>\n",
       "    </tr>\n",
       "  </thead>\n",
       "  <tbody>\n",
       "    <tr>\n",
       "      <th>0</th>\n",
       "      <td>02aa804e-bde0afdd-112c0b34-7bc16630-4e384014</td>\n",
       "      <td>10000032</td>\n",
       "      <td>50414267</td>\n",
       "      <td>CHEST (PA AND LAT)</td>\n",
       "      <td>PA</td>\n",
       "      <td>3056</td>\n",
       "      <td>2544</td>\n",
       "      <td>21800506</td>\n",
       "      <td>213014.531</td>\n",
       "      <td>CHEST (PA AND LAT)</td>\n",
       "      <td>postero-anterior</td>\n",
       "      <td>Erect</td>\n",
       "    </tr>\n",
       "    <tr>\n",
       "      <th>1</th>\n",
       "      <td>174413ec-4ec4c1f7-34ea26b7-c5f994f8-79ef1962</td>\n",
       "      <td>10000032</td>\n",
       "      <td>50414267</td>\n",
       "      <td>CHEST (PA AND LAT)</td>\n",
       "      <td>LATERAL</td>\n",
       "      <td>3056</td>\n",
       "      <td>2544</td>\n",
       "      <td>21800506</td>\n",
       "      <td>213014.531</td>\n",
       "      <td>CHEST (PA AND LAT)</td>\n",
       "      <td>lateral</td>\n",
       "      <td>Erect</td>\n",
       "    </tr>\n",
       "    <tr>\n",
       "      <th>2</th>\n",
       "      <td>2a2277a9-b0ded155-c0de8eb9-c124d10e-82c5caab</td>\n",
       "      <td>10000032</td>\n",
       "      <td>53189527</td>\n",
       "      <td>CHEST (PA AND LAT)</td>\n",
       "      <td>PA</td>\n",
       "      <td>3056</td>\n",
       "      <td>2544</td>\n",
       "      <td>21800626</td>\n",
       "      <td>165500.312</td>\n",
       "      <td>CHEST (PA AND LAT)</td>\n",
       "      <td>postero-anterior</td>\n",
       "      <td>Erect</td>\n",
       "    </tr>\n",
       "    <tr>\n",
       "      <th>3</th>\n",
       "      <td>e084de3b-be89b11e-20fe3f9f-9c8d8dfe-4cfd202c</td>\n",
       "      <td>10000032</td>\n",
       "      <td>53189527</td>\n",
       "      <td>CHEST (PA AND LAT)</td>\n",
       "      <td>LATERAL</td>\n",
       "      <td>3056</td>\n",
       "      <td>2544</td>\n",
       "      <td>21800626</td>\n",
       "      <td>165500.312</td>\n",
       "      <td>CHEST (PA AND LAT)</td>\n",
       "      <td>lateral</td>\n",
       "      <td>Erect</td>\n",
       "    </tr>\n",
       "    <tr>\n",
       "      <th>4</th>\n",
       "      <td>68b5c4b1-227d0485-9cc38c3f-7b84ab51-4b472714</td>\n",
       "      <td>10000032</td>\n",
       "      <td>53911762</td>\n",
       "      <td>CHEST (PORTABLE AP)</td>\n",
       "      <td>AP</td>\n",
       "      <td>2705</td>\n",
       "      <td>2539</td>\n",
       "      <td>21800723</td>\n",
       "      <td>80556.875</td>\n",
       "      <td>CHEST (PORTABLE AP)</td>\n",
       "      <td>antero-posterior</td>\n",
       "      <td>NaN</td>\n",
       "    </tr>\n",
       "    <tr>\n",
       "      <th>...</th>\n",
       "      <td>...</td>\n",
       "      <td>...</td>\n",
       "      <td>...</td>\n",
       "      <td>...</td>\n",
       "      <td>...</td>\n",
       "      <td>...</td>\n",
       "      <td>...</td>\n",
       "      <td>...</td>\n",
       "      <td>...</td>\n",
       "      <td>...</td>\n",
       "      <td>...</td>\n",
       "      <td>...</td>\n",
       "    </tr>\n",
       "    <tr>\n",
       "      <th>377105</th>\n",
       "      <td>428e2c18-5721d8f3-35a05001-36f3d080-9053b83c</td>\n",
       "      <td>19999733</td>\n",
       "      <td>57132437</td>\n",
       "      <td>CHEST (PA AND LAT)</td>\n",
       "      <td>PA</td>\n",
       "      <td>3056</td>\n",
       "      <td>2544</td>\n",
       "      <td>21520708</td>\n",
       "      <td>224550.171</td>\n",
       "      <td>CHEST (PA AND LAT)</td>\n",
       "      <td>postero-anterior</td>\n",
       "      <td>Erect</td>\n",
       "    </tr>\n",
       "    <tr>\n",
       "      <th>377106</th>\n",
       "      <td>58c403aa-35ff8bd9-73e39f54-8dc9cc5d-e0ec3fa9</td>\n",
       "      <td>19999733</td>\n",
       "      <td>57132437</td>\n",
       "      <td>CHEST (PA AND LAT)</td>\n",
       "      <td>LATERAL</td>\n",
       "      <td>3056</td>\n",
       "      <td>2544</td>\n",
       "      <td>21520708</td>\n",
       "      <td>224550.171</td>\n",
       "      <td>CHEST (PA AND LAT)</td>\n",
       "      <td>lateral</td>\n",
       "      <td>Erect</td>\n",
       "    </tr>\n",
       "    <tr>\n",
       "      <th>377107</th>\n",
       "      <td>58766883-376a15ce-3b323a28-6af950a0-16b793bd</td>\n",
       "      <td>19999987</td>\n",
       "      <td>55368167</td>\n",
       "      <td>CHEST (PORTABLE AP)</td>\n",
       "      <td>AP</td>\n",
       "      <td>2544</td>\n",
       "      <td>3056</td>\n",
       "      <td>21451104</td>\n",
       "      <td>51448.218</td>\n",
       "      <td>CHEST (PORTABLE AP)</td>\n",
       "      <td>antero-posterior</td>\n",
       "      <td>Erect</td>\n",
       "    </tr>\n",
       "    <tr>\n",
       "      <th>377108</th>\n",
       "      <td>7ba273af-3d290f8d-e28d0ab4-484b7a86-7fc12b08</td>\n",
       "      <td>19999987</td>\n",
       "      <td>58621812</td>\n",
       "      <td>CHEST (PORTABLE AP)</td>\n",
       "      <td>AP</td>\n",
       "      <td>3056</td>\n",
       "      <td>2544</td>\n",
       "      <td>21451102</td>\n",
       "      <td>202809.234</td>\n",
       "      <td>CHEST (PORTABLE AP)</td>\n",
       "      <td>antero-posterior</td>\n",
       "      <td>Erect</td>\n",
       "    </tr>\n",
       "    <tr>\n",
       "      <th>377109</th>\n",
       "      <td>1a1fe7e3-cbac5d93-b339aeda-86bb86b5-4f31e82e</td>\n",
       "      <td>19999987</td>\n",
       "      <td>58971208</td>\n",
       "      <td>CHEST (PORTABLE AP)</td>\n",
       "      <td>AP</td>\n",
       "      <td>3056</td>\n",
       "      <td>2544</td>\n",
       "      <td>21451103</td>\n",
       "      <td>50507.625</td>\n",
       "      <td>CHEST (PORTABLE AP)</td>\n",
       "      <td>antero-posterior</td>\n",
       "      <td>Recumbent</td>\n",
       "    </tr>\n",
       "  </tbody>\n",
       "</table>\n",
       "<p>377110 rows × 12 columns</p>\n",
       "</div>"
      ],
      "text/plain": [
       "                                            dicom_id  subject_id  study_id  \\\n",
       "0       02aa804e-bde0afdd-112c0b34-7bc16630-4e384014    10000032  50414267   \n",
       "1       174413ec-4ec4c1f7-34ea26b7-c5f994f8-79ef1962    10000032  50414267   \n",
       "2       2a2277a9-b0ded155-c0de8eb9-c124d10e-82c5caab    10000032  53189527   \n",
       "3       e084de3b-be89b11e-20fe3f9f-9c8d8dfe-4cfd202c    10000032  53189527   \n",
       "4       68b5c4b1-227d0485-9cc38c3f-7b84ab51-4b472714    10000032  53911762   \n",
       "...                                              ...         ...       ...   \n",
       "377105  428e2c18-5721d8f3-35a05001-36f3d080-9053b83c    19999733  57132437   \n",
       "377106  58c403aa-35ff8bd9-73e39f54-8dc9cc5d-e0ec3fa9    19999733  57132437   \n",
       "377107  58766883-376a15ce-3b323a28-6af950a0-16b793bd    19999987  55368167   \n",
       "377108  7ba273af-3d290f8d-e28d0ab4-484b7a86-7fc12b08    19999987  58621812   \n",
       "377109  1a1fe7e3-cbac5d93-b339aeda-86bb86b5-4f31e82e    19999987  58971208   \n",
       "\n",
       "       PerformedProcedureStepDescription ViewPosition  Rows  Columns  \\\n",
       "0                     CHEST (PA AND LAT)           PA  3056     2544   \n",
       "1                     CHEST (PA AND LAT)      LATERAL  3056     2544   \n",
       "2                     CHEST (PA AND LAT)           PA  3056     2544   \n",
       "3                     CHEST (PA AND LAT)      LATERAL  3056     2544   \n",
       "4                    CHEST (PORTABLE AP)           AP  2705     2539   \n",
       "...                                  ...          ...   ...      ...   \n",
       "377105                CHEST (PA AND LAT)           PA  3056     2544   \n",
       "377106                CHEST (PA AND LAT)      LATERAL  3056     2544   \n",
       "377107               CHEST (PORTABLE AP)           AP  2544     3056   \n",
       "377108               CHEST (PORTABLE AP)           AP  3056     2544   \n",
       "377109               CHEST (PORTABLE AP)           AP  3056     2544   \n",
       "\n",
       "        StudyDate   StudyTime ProcedureCodeSequence_CodeMeaning  \\\n",
       "0        21800506  213014.531                CHEST (PA AND LAT)   \n",
       "1        21800506  213014.531                CHEST (PA AND LAT)   \n",
       "2        21800626  165500.312                CHEST (PA AND LAT)   \n",
       "3        21800626  165500.312                CHEST (PA AND LAT)   \n",
       "4        21800723   80556.875               CHEST (PORTABLE AP)   \n",
       "...           ...         ...                               ...   \n",
       "377105   21520708  224550.171                CHEST (PA AND LAT)   \n",
       "377106   21520708  224550.171                CHEST (PA AND LAT)   \n",
       "377107   21451104   51448.218               CHEST (PORTABLE AP)   \n",
       "377108   21451102  202809.234               CHEST (PORTABLE AP)   \n",
       "377109   21451103   50507.625               CHEST (PORTABLE AP)   \n",
       "\n",
       "       ViewCodeSequence_CodeMeaning PatientOrientationCodeSequence_CodeMeaning  \n",
       "0                  postero-anterior                                      Erect  \n",
       "1                           lateral                                      Erect  \n",
       "2                  postero-anterior                                      Erect  \n",
       "3                           lateral                                      Erect  \n",
       "4                  antero-posterior                                        NaN  \n",
       "...                             ...                                        ...  \n",
       "377105             postero-anterior                                      Erect  \n",
       "377106                      lateral                                      Erect  \n",
       "377107             antero-posterior                                      Erect  \n",
       "377108             antero-posterior                                      Erect  \n",
       "377109             antero-posterior                                  Recumbent  \n",
       "\n",
       "[377110 rows x 12 columns]"
      ]
     },
     "execution_count": 12,
     "metadata": {},
     "output_type": "execute_result"
    }
   ],
   "source": [
    "CXR_meta_df"
   ]
  },
  {
   "cell_type": "markdown",
   "metadata": {},
   "source": [
    "## Identify stay_id for CXR-image"
   ]
  },
  {
   "cell_type": "code",
   "execution_count": 13,
   "metadata": {},
   "outputs": [],
   "source": [
    "## Create studyDateTime for indentifying the stay_id.\n",
    "CXR_meta_df['StudyDateTime']  = [float(str(d) + str(t))\n",
    " for d, t in zip(CXR_meta_df['StudyDate'], CXR_meta_df['StudyTime'])]\n"
   ]
  },
  {
   "cell_type": "code",
   "execution_count": 14,
   "metadata": {},
   "outputs": [
    {
     "data": {
      "text/plain": [
       "0         2.180051e+13\n",
       "1         2.180051e+13\n",
       "2         2.180063e+13\n",
       "3         2.180063e+13\n",
       "4         2.180072e+12\n",
       "              ...     \n",
       "377105    2.152071e+13\n",
       "377106    2.152071e+13\n",
       "377107    2.145110e+12\n",
       "377108    2.145110e+13\n",
       "377109    2.145110e+12\n",
       "Name: StudyDateTime, Length: 377110, dtype: float64"
      ]
     },
     "execution_count": 14,
     "metadata": {},
     "output_type": "execute_result"
    }
   ],
   "source": [
    "CXR_meta_df['StudyDateTime']"
   ]
  },
  {
   "cell_type": "code",
   "execution_count": 15,
   "metadata": {},
   "outputs": [],
   "source": [
    "### Use the transfer Id to indentify.\n",
    "def time_string_to_float(x):\n",
    "    return float('inf') if type(x) is float and math.isnan(x) else float(x.replace(\"-\", \"\").replace(\"/\", \"\").replace(\" \", \"\").replace(\":\", \"\"))"
   ]
  },
  {
   "cell_type": "code",
   "execution_count": 16,
   "metadata": {},
   "outputs": [],
   "source": [
    "# load the stay_id \n",
    "ED_edstays_df = pd.read_csv(f\"{ED_FOLDER_PATH}/edstays.csv\")"
   ]
  },
  {
   "cell_type": "code",
   "execution_count": 17,
   "metadata": {},
   "outputs": [],
   "source": [
    "CXR_meta_df['stay_id'] = [None] * len(CXR_meta_df)"
   ]
  },
  {
   "cell_type": "code",
   "execution_count": 18,
   "metadata": {},
   "outputs": [
    {
     "name": "stdout",
     "output_type": "stream",
     "text": [
      "MIMIC-CXR contain total 377110 instances.\n"
     ]
    }
   ],
   "source": [
    "print(f\"MIMIC-CXR contain total {len(CXR_meta_df)} instances.\")"
   ]
  },
  {
   "cell_type": "code",
   "execution_count": 19,
   "metadata": {},
   "outputs": [
    {
     "data": {
      "application/vnd.jupyter.widget-view+json": {
       "model_id": "ee4c152b2a344a9e814e2c7890c5add8",
       "version_major": 2,
       "version_minor": 0
      },
      "text/plain": [
       "  0%|          | 0/377110 [00:00<?, ?it/s]"
      ]
     },
     "metadata": {},
     "output_type": "display_data"
    }
   ],
   "source": [
    "######## Identify stay_id for CXR-images ########\n",
    "\n",
    "cxr_cannot_find_stay = []\n",
    "\n",
    "ED_edstays_df['intime_float'] = ED_edstays_df.intime.apply(time_string_to_float)\n",
    "ED_edstays_df['outtime_float'] = ED_edstays_df.outtime.apply(time_string_to_float)\n",
    "\n",
    "with tqdm(total= len(CXR_meta_df)) as pbar:\n",
    "    for idx, cxr_meta_instance in enumerate(CXR_meta_df.iloc):\n",
    "        dicom_id = cxr_meta_instance['dicom_id']\n",
    "        \n",
    "        study_time = cxr_meta_instance[\"StudyDateTime\"]\n",
    "\n",
    "        ed_stay_time_match = ED_edstays_df[\n",
    "            (ED_edstays_df.subject_id == cxr_meta_instance.subject_id)  \n",
    "        ]\n",
    "\n",
    "        if (len(ed_stay_time_match) > 0):\n",
    "            ed_stay_time_match = ed_stay_time_match[\n",
    "                (ed_stay_time_match.intime_float < study_time) &\n",
    "                (ed_stay_time_match.outtime_float > study_time)\n",
    "            ]\n",
    "\n",
    "\n",
    "        if (len(ed_stay_time_match) == 1):\n",
    "            stay_id = ed_stay_time_match.iloc[0]['stay_id']\n",
    "            CXR_meta_df.at[idx,\"stay_id\"] = stay_id\n",
    "        else:\n",
    "            # print(f\"Having problem with {dicom_id} CXR iamge, it has {len(ed_stay_time_match)} matches.\")\n",
    "            cxr_cannot_find_stay.append(cxr_meta_instance)\n",
    "\n",
    "\n",
    "        pbar.update(1)\n",
    "\n",
    "# 5m 2.7s on Mac"
   ]
  },
  {
   "cell_type": "code",
   "execution_count": 20,
   "metadata": {},
   "outputs": [
    {
     "name": "stdout",
     "output_type": "stream",
     "text": [
      "Total 284800 CXR-images can't find their stay_id\n"
     ]
    }
   ],
   "source": [
    "print(f\"Total {len(cxr_cannot_find_stay)} CXR-images can't find their stay_id\")"
   ]
  },
  {
   "cell_type": "code",
   "execution_count": 21,
   "metadata": {},
   "outputs": [],
   "source": [
    "### Add relationship to EyeGaze and REFLACX. (Checking if the dataset contain this dicom_id)\n",
    "eye_gaze_master_df = pd.read_csv(f\"{EYEGAZE_FOLDER_PATH}/master_sheet.csv\")\n",
    "reflacx_meta_df =  pd.concat([pd.read_csv(f\"{REFLACX_FOLDER_PATH}/main_data/metadata_phase_{i}.csv\") for i in range(1,4)])\n",
    "all_dicom_id_in_eye_gaze = list(eye_gaze_master_df['dicom_id'])\n",
    "all_dicom_id_in_reflacx = list(reflacx_meta_df['dicom_id'])\n",
    "CXR_meta_df['in_eye_gaze'] = CXR_meta_df[\"dicom_id\"].isin(all_dicom_id_in_eye_gaze)\n",
    "CXR_meta_df['in_reflacx'] = CXR_meta_df[\"dicom_id\"].isin(all_dicom_id_in_reflacx)"
   ]
  },
  {
   "cell_type": "code",
   "execution_count": 22,
   "metadata": {},
   "outputs": [],
   "source": [
    "CXR_meta_df_has_stayId = CXR_meta_df[[\n",
    "    not (id is None) for id in CXR_meta_df['stay_id']]]"
   ]
  },
  {
   "cell_type": "markdown",
   "metadata": {},
   "source": [
    "## Create stay_id folder and import CXR-data"
   ]
  },
  {
   "cell_type": "code",
   "execution_count": 23,
   "metadata": {},
   "outputs": [],
   "source": [
    "# cxr_chexpert_df = pd.read_csv(f\"{CXR_FOLDER_PATH}/mimic-cxr-2.0.0-chexpert.csv.gz\", compression='gzip', header=0, sep=',', quotechar='\"')\n",
    "# cxr_negbio_df = pd.read_csv(f\"{CXR_FOLDER_PATH}/mimic-cxr-2.0.0-negbio.csv.gz\", compression='gzip', header=0, sep=',', quotechar='\"')\n",
    "# cxr_split_df = pd.read_csv(f\"{CXR_FOLDER_PATH}/mimic-cxr-2.0.0-split.csv.gz\", compression='gzip', header=0, sep=',', quotechar='\"')"
   ]
  },
  {
   "cell_type": "code",
   "execution_count": 24,
   "metadata": {},
   "outputs": [],
   "source": [
    "# for subject_id in set(CXR_meta_df_has_stayId['subject_id']):\n",
    "#     subject_matches = CXR_meta_df_has_stayId[CXR_meta_df_has_stayId['subject_id'] == subject_id]\n",
    "#     all_stay_ids = list(set(subject_matches['stay_id']))\n",
    "\n",
    "\n",
    "#     for stay_id in all_stay_ids:\n",
    "#         stay_matches = subject_matches[subject_matches['stay_id'] == stay_id]\n",
    "#         all_study_ids = list(set(stay_matches['stay_id']))\n",
    "\n",
    "#         for study_id in all_study_ids:\n",
    "#             match_cxr_meta = CXR_meta_df_has_stayId[CXR_meta_df_has_stayId['study_id'] == study_id]\n",
    "#             match_cxr_chexpert = cxr_chexpert_df[cxr_chexpert_df[\"study_id\"] == study_id]\n",
    "#             match_cxr_negbio = cxr_negbio_df[cxr_negbio_df[\"study_id\"] == study_id]\n",
    "#             match_cxr_split = cxr_split_df[cxr_split_df[\"study_id\"] == study_id]\n",
    "\n",
    "#             save_folder_path = f\"{XAMI_MIMIC_PATH}/patient_{subject_id}/stay_{stay_id}/CXR-JPG/study_{study_id}\"\n",
    "#             os.makedirs(save_folder_path, exist_ok=True)\n",
    "\n",
    "#             match_cxr_meta.to_csv(f\"{stay_folder_path}/cxr_chexpert.csv\")\n",
    "#             match_cxr_chexpert.to_csv(f\"{stay_folder_path}/cxr_chexpert.csv\")\n",
    "#             match_cxr_negbio.to_csv(f\"{stay_folder_path}/cxr_negbio.csv\")\n",
    "#             match_cxr_split.to_csv(f\"{stay_folder_path}/cxr_split.csv\")        \n",
    "\n"
   ]
  },
  {
   "cell_type": "code",
   "execution_count": 25,
   "metadata": {},
   "outputs": [],
   "source": [
    "# for stay_id in set(CXR_meta_df_has_stayId['stay_id']):\n",
    "\n",
    "#     # Create the folder for this stay.\n",
    "#     stay_matches = CXR_meta_df_has_stayId[CXR_meta_df_has_stayId['stay_id'] == stay_id]\n",
    "\n",
    "#     if (len(stay_matches) < 1):\n",
    "#         raise StopIteration(\"Should have matches in the CXR meta table\")\n",
    "\n",
    "#     # Find who is the patient\n",
    "#     subject_id = stay_matches.iloc[0]['subject_id']\n",
    "\n",
    "#     # Create a folder for this stay\n",
    "#     stay_folder_path = f\"{XAMI_MIMIC_PATH}/patient_{subject_id}/stay_{stay_id}\"\n",
    "#     os.makedirs(stay_folder_path, exist_ok=True)\n",
    "\n",
    "#     all_study_ids = list(set(stay_matches[\"study_id\"]))\n",
    "\n",
    "#     for study_id in all_study_ids:\n",
    "#         match_cxr_meta = CXR_meta_df_has_stayId[CXR_meta_df_has_stayId['study_id'] == study_id]\n",
    "#         match_cxr_chexpert = cxr_chexpert_df[cxr_chexpert_df[\"study_id\"] == study_id]\n",
    "#         match_cxr_negbio = cxr_negbio_df[cxr_negbio_df[\"study_id\"] == study_id]\n",
    "#         match_cxr_split = cxr_split_df[cxr_split_df[\"study_id\"] == study_id]\n",
    "\n",
    "#         match_cxr_chexpert.to_csv(f\"{stay_folder_path}/cxr_chexpert.csv\")\n",
    "#         match_cxr_negbio.to_csv(f\"{stay_folder_path}/cxr_negbio.csv\")\n",
    "#         match_cxr_split.to_csv(f\"{stay_folder_path}/cxr_split.csv\")\n"
   ]
  },
  {
   "cell_type": "markdown",
   "metadata": {},
   "source": [
    "## Import other clinical data to the stay folder"
   ]
  },
  {
   "cell_type": "code",
   "execution_count": 26,
   "metadata": {},
   "outputs": [],
   "source": [
    "######################################\n",
    "# Tables can be linked with stay_id\n",
    "######################################\n",
    "# core - tranfers \n",
    "# ed - diagnosis\n",
    "# ed - edstays\n",
    "# ed - medrecon \n",
    "# ed - pyxis \n",
    "# ed - triage \n",
    "# ed - vitalsign\n",
    "\n",
    "######################################\n",
    "# Tables can be linked with patient_id\n",
    "######################################\n",
    "# core - admissions\n",
    "# core - patients "
   ]
  },
  {
   "cell_type": "code",
   "execution_count": 27,
   "metadata": {},
   "outputs": [],
   "source": [
    "def stay_level_import(cxr_df, import_df, save_folder_name, save_table_name, import_df_stay_key = \"stay_id\"):\n",
    "    all_cxr_stay_ids = set(cxr_df['stay_id'])\n",
    "\n",
    "    # get the stay_id that are valid in the import df \n",
    "    valid_stay_ids = [id for id in list(\n",
    "            set(import_df[import_df_stay_key])) if id in all_cxr_stay_ids]\n",
    "\n",
    "    valid_stay_ids.sort()\n",
    "\n",
    "    # foreach stay_id, we import the data to its folder\n",
    "    for stay_id in valid_stay_ids:\n",
    "\n",
    "        # Create the folder for this stay.\n",
    "        matches = import_df[import_df[import_df_stay_key] == stay_id] \n",
    "\n",
    "        if (len(matches ) < 1):\n",
    "            raise StopIteration(\"Should have matches in the CXR meta table\")\n",
    "\n",
    "        # Find who is the subject_id\n",
    "        subject_id = matches.iloc[0]['subject_id']\n",
    "        \n",
    "        # Create a folder for this stay \n",
    "        save_folder_path = f\"{XAMI_MIMIC_PATH}/patient_{subject_id}/stay_{stay_id}/{save_folder_name}\" \n",
    "        os.makedirs(save_folder_path, exist_ok=True)\n",
    "\n",
    "        # Store the matches in the folder.\n",
    "        matches.to_csv(f\"{save_folder_path}/{save_table_name}.csv\")"
   ]
  },
  {
   "cell_type": "code",
   "execution_count": 28,
   "metadata": {},
   "outputs": [],
   "source": [
    "ED_diagnosis_df = pd.read_csv(f\"{ED_FOLDER_PATH}/diagnosis.csv\")\n",
    "stay_level_import(CXR_meta_df_has_stayId, ED_diagnosis_df, \"ED\", \"diagnosis\")"
   ]
  },
  {
   "cell_type": "code",
   "execution_count": 29,
   "metadata": {},
   "outputs": [],
   "source": [
    "ED_edstays_df = pd.read_csv(f\"{ED_FOLDER_PATH}/edstays.csv\")\n",
    "stay_level_import(CXR_meta_df_has_stayId, ED_edstays_df, \"ED\", \"edstays\")"
   ]
  },
  {
   "cell_type": "code",
   "execution_count": 30,
   "metadata": {},
   "outputs": [],
   "source": [
    "ED_medrecon_df = pd.read_csv(f\"{ED_FOLDER_PATH}/medrecon.csv\")\n",
    "stay_level_import(CXR_meta_df_has_stayId, ED_medrecon_df, \"ED\", \"medrecon\")"
   ]
  },
  {
   "cell_type": "code",
   "execution_count": null,
   "metadata": {},
   "outputs": [],
   "source": [
    "ED_pyxis_df = pd.read_csv(f\"{ED_FOLDER_PATH}/pyxis.csv\")\n",
    "stay_level_import(CXR_meta_df_has_stayId, ED_pyxis_df, \"ED\", \"pyxis\")"
   ]
  },
  {
   "cell_type": "code",
   "execution_count": null,
   "metadata": {},
   "outputs": [],
   "source": [
    "ED_triage_df = pd.read_csv(f\"{ED_FOLDER_PATH}/triage.csv\")\n",
    "stay_level_import(CXR_meta_df_has_stayId, ED_triage_df, \"ED\", \"triage\")"
   ]
  },
  {
   "cell_type": "code",
   "execution_count": null,
   "metadata": {},
   "outputs": [],
   "source": [
    "Core_transfers_df = pd.read_csv(f\"{CLINICAL_FOLDER_PATH}/core/transfers.csv\")\n",
    "stay_level_import(CXR_meta_df_has_stayId, Core_transfers_df, \"Core\", \"transfers\", \"transfer_id\")"
   ]
  },
  {
   "cell_type": "code",
   "execution_count": null,
   "metadata": {},
   "outputs": [],
   "source": [
    "def subject_level_import(cxr_df, import_df, save_table_name, import_df_subject_id = \"subject_id\"):\n",
    "    all_cxr_subjet_ids = set(cxr_df['subject_id'])\n",
    "\n",
    "    # get the stay_id that are valid in the import df \n",
    "    valid_subject_ids = [id for id in list(\n",
    "            set(import_df[import_df_subject_id])) if id in all_cxr_subjet_ids]\n",
    "\n",
    "    valid_subject_ids.sort()\n",
    "\n",
    "    # foreach stay_id, we import the data to its folder\n",
    "    for subject_id in valid_subject_ids:\n",
    "\n",
    "        # Create the folder for this stay.\n",
    "        matches = import_df[import_df[import_df_subject_id] == subject_id] \n",
    "\n",
    "        if (len(matches ) < 1):\n",
    "            raise StopIteration(\"Should have matches in the CXR meta table\")\n",
    "\n",
    "        # Create a folder for this stay \n",
    "        save_folder_path = f\"{XAMI_MIMIC_PATH}/patient_{subject_id}\" \n",
    "        os.makedirs(save_folder_path, exist_ok=True)\n",
    "\n",
    "        # Store the matches in the folder.\n",
    "        matches.to_csv(f\"{save_folder_path}/{save_table_name}.csv\")"
   ]
  },
  {
   "cell_type": "code",
   "execution_count": null,
   "metadata": {},
   "outputs": [],
   "source": [
    "Core_admissions_df = pd.read_csv(f\"{CLINICAL_FOLDER_PATH}/core/admissions.csv\")\n",
    "subject_level_import(CXR_meta_df, Core_admissions_df, \"admissions\")"
   ]
  },
  {
   "cell_type": "code",
   "execution_count": null,
   "metadata": {},
   "outputs": [],
   "source": [
    "Core_patients_df = pd.read_csv(f\"{CLINICAL_FOLDER_PATH}/core/patients.csv\")\n",
    "subject_level_import(CXR_meta_df, Core_patients_df, \"patients\")"
   ]
  },
  {
   "cell_type": "code",
   "execution_count": null,
   "metadata": {},
   "outputs": [],
   "source": [
    "CXR_meta_df['in_ed'] = CXR_meta_df[\"stay_id\"].isin(set(ED_edstays_df['stay_id']))\n",
    "CXR_meta_df['in_core'] = CXR_meta_df[\"subject_id\"].isin(set(Core_patients_df['subject_id']))"
   ]
  },
  {
   "cell_type": "markdown",
   "metadata": {},
   "source": [
    "# Save meta data spread sheet."
   ]
  },
  {
   "cell_type": "code",
   "execution_count": null,
   "metadata": {},
   "outputs": [],
   "source": [
    "\n",
    "# change the stay_id to int\n",
    "# CXR_meta_df['stay_id'] = CXR_meta_df['stay_id'].apply(lambda x: None if np.isnan(x) else str(int(x)))\n",
    "CXR_meta_df.to_csv(\"cxr_meta.csv\")\n",
    "cxr_df_with_stay_id_only = CXR_meta_df[CXR_meta_df['stay_id'].notnull()]\n",
    "cxr_df_with_stay_id_only['stay_id'] = cxr_df_with_stay_id_only['stay_id'].apply(lambda x: int(x))\n",
    "cxr_df_with_stay_id_only.to_csv(\"cxr_meta_with_stay_id_only.csv\")"
   ]
  },
  {
   "cell_type": "code",
   "execution_count": null,
   "metadata": {},
   "outputs": [],
   "source": [
    "available_eye_gaze_data = CXR_meta_df[\n",
    "    (CXR_meta_df[\"in_ed\"]) &\n",
    "    (CXR_meta_df[\"in_core\"]) &\n",
    "    (CXR_meta_df[\"in_eye_gaze\"])\n",
    "]"
   ]
  },
  {
   "cell_type": "code",
   "execution_count": null,
   "metadata": {},
   "outputs": [],
   "source": [
    "available_eye_gaze_data"
   ]
  },
  {
   "cell_type": "code",
   "execution_count": null,
   "metadata": {},
   "outputs": [],
   "source": [
    "available_reflacx_data = CXR_meta_df[\n",
    "    (CXR_meta_df[\"in_ed\"]) &\n",
    "    (CXR_meta_df[\"in_core\"]) &\n",
    "    (CXR_meta_df[\"in_reflacx\"])\n",
    "]"
   ]
  },
  {
   "cell_type": "code",
   "execution_count": null,
   "metadata": {},
   "outputs": [],
   "source": [
    "available_reflacx_data"
   ]
  },
  {
   "cell_type": "code",
   "execution_count": null,
   "metadata": {},
   "outputs": [],
   "source": []
  }
 ],
 "metadata": {
  "interpreter": {
   "hash": "5c622353f32ef24c8d83e5c3e334107c074e82d7c3e8ca52c56b9fc900ce33e6"
  },
  "kernelspec": {
   "display_name": "Python 3.8.10 64-bit ('tf_mac': conda)",
   "name": "python3"
  },
  "language_info": {
   "codemirror_mode": {
    "name": "ipython",
    "version": 3
   },
   "file_extension": ".py",
   "mimetype": "text/x-python",
   "name": "python",
   "nbconvert_exporter": "python",
   "pygments_lexer": "ipython3",
   "version": "3.8.10"
  },
  "orig_nbformat": 4
 },
 "nbformat": 4,
 "nbformat_minor": 2
}
