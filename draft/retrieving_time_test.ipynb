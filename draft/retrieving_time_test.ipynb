{
 "cells": [
  {
   "cell_type": "code",
   "execution_count": 1,
   "metadata": {},
   "outputs": [],
   "source": [
    "import pandas as pd\n",
    "import time\n",
    "import numpy as np\n",
    "import os\n",
    "import random\n",
    "from datetime import datetime"
   ]
  },
  {
   "cell_type": "code",
   "execution_count": 2,
   "metadata": {},
   "outputs": [],
   "source": [
    "TESTING_FOLDER_PATH = \"E:/AI-VR dataset/Testing\""
   ]
  },
  {
   "cell_type": "code",
   "execution_count": 3,
   "metadata": {},
   "outputs": [],
   "source": [
    "size = 30000\n",
    "pick_size = 5000\n",
    "\n",
    "# Creating a thousand folders in the destination.\n",
    "for i in range(size):\n",
    "    os.makedirs(f\"{TESTING_FOLDER_PATH}/{i}\", exist_ok=True) \n",
    "\n",
    "random.seed(123)\n",
    "\n",
    "\n",
    "# Let's generate a thousand features\n",
    "data_list = []\n",
    "for i in range(size):\n",
    "    data_list.append(\n",
    "        {\n",
    "            \"idx\":i,\n",
    "            \"a\": random.randint(-9e+10, 9e+10),\n",
    "            \"b\": random.randint(-9e+10, 9e+10),\n",
    "            \"c\": random.randint(-9e+10, 9e+10),\n",
    "            \"e\": random.randint(-9e+10, 9e+10),\n",
    "            \"f\": random.randint(-9e+10, 9e+10),\n",
    "        }\n",
    "    )\n",
    "\n",
    "\n",
    "for data in data_list:\n",
    "\n",
    "    ### Make the folder\n",
    "    os.makedirs(f\"{TESTING_FOLDER_PATH}/{data['idx']}\", exist_ok=True) \n",
    "    pd.DataFrame([data_list[0]]).to_csv(f\"{TESTING_FOLDER_PATH}/{data['idx']}/data.csv\")\n",
    "    ### store the data inside the folder with the name data.csv\n",
    "\n",
    "pd.DataFrame(data_list).to_csv(f\"{TESTING_FOLDER_PATH}/total_data.csv\")"
   ]
  },
  {
   "cell_type": "code",
   "execution_count": 12,
   "metadata": {},
   "outputs": [],
   "source": [
    "pick_idx = list(np.random.choice(list(range(size)), size=20000, replace=False))"
   ]
  },
  {
   "cell_type": "code",
   "execution_count": 13,
   "metadata": {},
   "outputs": [
    {
     "data": {
      "text/html": [
       "<div>\n",
       "<style scoped>\n",
       "    .dataframe tbody tr th:only-of-type {\n",
       "        vertical-align: middle;\n",
       "    }\n",
       "\n",
       "    .dataframe tbody tr th {\n",
       "        vertical-align: top;\n",
       "    }\n",
       "\n",
       "    .dataframe thead th {\n",
       "        text-align: right;\n",
       "    }\n",
       "</style>\n",
       "<table border=\"1\" class=\"dataframe\">\n",
       "  <thead>\n",
       "    <tr style=\"text-align: right;\">\n",
       "      <th></th>\n",
       "      <th>Unnamed: 0</th>\n",
       "      <th>idx</th>\n",
       "      <th>a</th>\n",
       "      <th>b</th>\n",
       "      <th>c</th>\n",
       "      <th>e</th>\n",
       "      <th>f</th>\n",
       "    </tr>\n",
       "  </thead>\n",
       "  <tbody>\n",
       "    <tr>\n",
       "      <th>0</th>\n",
       "      <td>0</td>\n",
       "      <td>0</td>\n",
       "      <td>-16760656026</td>\n",
       "      <td>-15236465913</td>\n",
       "      <td>13243083861</td>\n",
       "      <td>62626825596</td>\n",
       "      <td>1621091465</td>\n",
       "    </tr>\n",
       "    <tr>\n",
       "      <th>1</th>\n",
       "      <td>1</td>\n",
       "      <td>1</td>\n",
       "      <td>-73455413937</td>\n",
       "      <td>-54954516840</td>\n",
       "      <td>61772189885</td>\n",
       "      <td>-45997358452</td>\n",
       "      <td>15645885251</td>\n",
       "    </tr>\n",
       "    <tr>\n",
       "      <th>3</th>\n",
       "      <td>3</td>\n",
       "      <td>3</td>\n",
       "      <td>29877478805</td>\n",
       "      <td>41311787856</td>\n",
       "      <td>39988566917</td>\n",
       "      <td>-77811580128</td>\n",
       "      <td>-5093673078</td>\n",
       "    </tr>\n",
       "    <tr>\n",
       "      <th>4</th>\n",
       "      <td>4</td>\n",
       "      <td>4</td>\n",
       "      <td>53209079504</td>\n",
       "      <td>42291420515</td>\n",
       "      <td>84413908270</td>\n",
       "      <td>66882592321</td>\n",
       "      <td>-88645955067</td>\n",
       "    </tr>\n",
       "    <tr>\n",
       "      <th>6</th>\n",
       "      <td>6</td>\n",
       "      <td>6</td>\n",
       "      <td>24540207432</td>\n",
       "      <td>49047511640</td>\n",
       "      <td>89332808239</td>\n",
       "      <td>-65002473500</td>\n",
       "      <td>47068065501</td>\n",
       "    </tr>\n",
       "    <tr>\n",
       "      <th>...</th>\n",
       "      <td>...</td>\n",
       "      <td>...</td>\n",
       "      <td>...</td>\n",
       "      <td>...</td>\n",
       "      <td>...</td>\n",
       "      <td>...</td>\n",
       "      <td>...</td>\n",
       "    </tr>\n",
       "    <tr>\n",
       "      <th>29993</th>\n",
       "      <td>29993</td>\n",
       "      <td>29993</td>\n",
       "      <td>-81687238735</td>\n",
       "      <td>76240579981</td>\n",
       "      <td>-64544000173</td>\n",
       "      <td>-5603047016</td>\n",
       "      <td>-51043408460</td>\n",
       "    </tr>\n",
       "    <tr>\n",
       "      <th>29995</th>\n",
       "      <td>29995</td>\n",
       "      <td>29995</td>\n",
       "      <td>12850596279</td>\n",
       "      <td>21065820385</td>\n",
       "      <td>-64327079562</td>\n",
       "      <td>-50536000605</td>\n",
       "      <td>-60191470345</td>\n",
       "    </tr>\n",
       "    <tr>\n",
       "      <th>29996</th>\n",
       "      <td>29996</td>\n",
       "      <td>29996</td>\n",
       "      <td>-75101863304</td>\n",
       "      <td>84676776417</td>\n",
       "      <td>-14071083183</td>\n",
       "      <td>-31001382486</td>\n",
       "      <td>-75766977060</td>\n",
       "    </tr>\n",
       "    <tr>\n",
       "      <th>29997</th>\n",
       "      <td>29997</td>\n",
       "      <td>29997</td>\n",
       "      <td>-6619450435</td>\n",
       "      <td>32284460012</td>\n",
       "      <td>71606532888</td>\n",
       "      <td>-7701974698</td>\n",
       "      <td>25214783102</td>\n",
       "    </tr>\n",
       "    <tr>\n",
       "      <th>29998</th>\n",
       "      <td>29998</td>\n",
       "      <td>29998</td>\n",
       "      <td>66895621731</td>\n",
       "      <td>44403755517</td>\n",
       "      <td>-13746333465</td>\n",
       "      <td>59887361368</td>\n",
       "      <td>-81964520837</td>\n",
       "    </tr>\n",
       "  </tbody>\n",
       "</table>\n",
       "<p>20000 rows × 7 columns</p>\n",
       "</div>"
      ],
      "text/plain": [
       "       Unnamed: 0    idx            a            b            c            e  \\\n",
       "0               0      0 -16760656026 -15236465913  13243083861  62626825596   \n",
       "1               1      1 -73455413937 -54954516840  61772189885 -45997358452   \n",
       "3               3      3  29877478805  41311787856  39988566917 -77811580128   \n",
       "4               4      4  53209079504  42291420515  84413908270  66882592321   \n",
       "6               6      6  24540207432  49047511640  89332808239 -65002473500   \n",
       "...           ...    ...          ...          ...          ...          ...   \n",
       "29993       29993  29993 -81687238735  76240579981 -64544000173  -5603047016   \n",
       "29995       29995  29995  12850596279  21065820385 -64327079562 -50536000605   \n",
       "29996       29996  29996 -75101863304  84676776417 -14071083183 -31001382486   \n",
       "29997       29997  29997  -6619450435  32284460012  71606532888  -7701974698   \n",
       "29998       29998  29998  66895621731  44403755517 -13746333465  59887361368   \n",
       "\n",
       "                 f  \n",
       "0       1621091465  \n",
       "1      15645885251  \n",
       "3      -5093673078  \n",
       "4     -88645955067  \n",
       "6      47068065501  \n",
       "...            ...  \n",
       "29993 -51043408460  \n",
       "29995 -60191470345  \n",
       "29996 -75766977060  \n",
       "29997  25214783102  \n",
       "29998 -81964520837  \n",
       "\n",
       "[20000 rows x 7 columns]"
      ]
     },
     "execution_count": 13,
     "metadata": {},
     "output_type": "execute_result"
    }
   ],
   "source": [
    "# load df\n",
    "total_df = pd.read_csv(f\"{TESTING_FOLDER_PATH}/total_data.csv\")\n",
    "total_df[[idx in pick_idx for idx in total_df['idx']]]"
   ]
  },
  {
   "cell_type": "code",
   "execution_count": 14,
   "metadata": {},
   "outputs": [],
   "source": [
    "all_dfs = []\n",
    "for i in pick_idx:\n",
    "    all_dfs.append(pd.read_csv(f\"{TESTING_FOLDER_PATH}/{i}/data.csv\"))\n",
    "    \n",
    "concated_df = pd.concat(all_dfs)"
   ]
  },
  {
   "cell_type": "code",
   "execution_count": 15,
   "metadata": {},
   "outputs": [
    {
     "data": {
      "text/plain": [
       "0.6294416243654822"
      ]
     },
     "execution_count": 15,
     "metadata": {},
     "output_type": "execute_result"
    }
   ],
   "source": [
    "24.8/39.4"
   ]
  },
  {
   "cell_type": "code",
   "execution_count": 11,
   "metadata": {},
   "outputs": [
    {
     "data": {
      "text/plain": [
       "0.798941798941799"
      ]
     },
     "execution_count": 11,
     "metadata": {},
     "output_type": "execute_result"
    }
   ],
   "source": []
  },
  {
   "cell_type": "code",
   "execution_count": null,
   "metadata": {},
   "outputs": [],
   "source": []
  },
  {
   "cell_type": "code",
   "execution_count": null,
   "metadata": {},
   "outputs": [],
   "source": []
  },
  {
   "cell_type": "code",
   "execution_count": null,
   "metadata": {},
   "outputs": [],
   "source": []
  }
 ],
 "metadata": {
  "interpreter": {
   "hash": "d9d14ce5063c5d8aaa62f42a22b56c5ab7a43293d440cad85867ad61e60e7912"
  },
  "kernelspec": {
   "display_name": "Python 3.9.7 64-bit ('tf': conda)",
   "language": "python",
   "name": "python3"
  },
  "language_info": {
   "codemirror_mode": {
    "name": "ipython",
    "version": 3
   },
   "file_extension": ".py",
   "mimetype": "text/x-python",
   "name": "python",
   "nbconvert_exporter": "python",
   "pygments_lexer": "ipython3",
   "version": "3.9.7"
  },
  "orig_nbformat": 4
 },
 "nbformat": 4,
 "nbformat_minor": 2
}
